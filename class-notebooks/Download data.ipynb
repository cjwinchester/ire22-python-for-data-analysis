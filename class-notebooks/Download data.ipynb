{
 "cells": [
  {
   "cell_type": "markdown",
   "id": "f836a515",
   "metadata": {},
   "source": [
    "# Download data\n",
    "\n",
    "This notebook has code to download the FAA's laser pointer data into the `data` folder. The goal is to make it easy to add links to new spreadsheets whenever the FAA pushes out new data."
   ]
  },
  {
   "cell_type": "code",
   "execution_count": null,
   "id": "457adcca",
   "metadata": {},
   "outputs": [],
   "source": [
    "# 3rd-party library installed separately from Python\n",
    "import requests"
   ]
  },
  {
   "cell_type": "code",
   "execution_count": null,
   "id": "e91e4e77",
   "metadata": {},
   "outputs": [],
   "source": [
    "# setting this up as a dict instead of a list to make things clearer when adding new years\n",
    "links = {\n",
    "    '2010-2014': 'https://www.faa.gov/sites/faa.gov/files/about/initiatives/lasers/laws/laser_incidents_2010-2014.xls',\n",
    "    '2015': 'https://www.faa.gov/sites/faa.gov/files/about/initiatives/lasers/laws/reported_laser_illumination_incidents_CY_2015.xls',\n",
    "    '2016': 'https://www.faa.gov/sites/faa.gov/files/about/initiatives/lasers/laws/reported_laser_illumination_incidents_CY_2016.xlsx',\n",
    "    '2017': 'https://www.faa.gov/sites/faa.gov/files/about/initiatives/lasers/laws/reported_laser_illumination_incidents_CY_2017.xlsx',\n",
    "    '2018': 'https://www.faa.gov/sites/faa.gov/files/about/initiatives/lasers/laws/Laser_Report_2018_final.xlsx',\n",
    "    '2019': 'https://www.faa.gov/sites/faa.gov/files/about/initiatives/lasers/laws/Laser_Report_2019_final.xlsx',\n",
    "    '2020': 'https://www.faa.gov/sites/faa.gov/files/about/initiatives/lasers/laws/Laser_Report_2020.xlsx',\n",
    "    '2021': 'https://www.faa.gov/sites/faa.gov/files/2022-02/Laser-Report-2021-FINAL.xlsx',\n",
    "    '2022': 'https://www.faa.gov/sites/faa.gov/files/2022-06/Laser-Report-2022-through-05-31.xlsx'\n",
    "}"
   ]
  },
  {
   "cell_type": "code",
   "execution_count": null,
   "id": "4c31985e",
   "metadata": {},
   "outputs": [],
   "source": [
    "# loop over the links dict\n",
    "for year in links:\n",
    "\n",
    "    # grab the URL value\n",
    "    url = links[year]\n",
    "    \n",
    "    # get the filename from the URL by splitting the URL string on slashes\n",
    "    # and grabbing the text after the final slash -- i.e., the last element in the list\n",
    "    # created by the split() function\n",
    "    # negative indexing: https://pythonguides.com/indexing-and-slicing-in-python/\n",
    "    xl_file = url.split('/')[-1]\n",
    "\n",
    "    # use an f-string to build a full file path\n",
    "    # https://www.geeksforgeeks.org/formatted-string-literals-f-strings-python/\n",
    "\n",
    "    # with paths, . means the current directory and .. means the parent directory\n",
    "    # so here, we're saying the file should land in the data directory, which is\n",
    "    # contained within the parent directory, so we need to go up one level first (..)\n",
    "    filename = f'../data/{xl_file}'\n",
    "    \n",
    "    # use the requests library to download this file\n",
    "    # https://requests.readthedocs.io/en/latest/\n",
    "    with requests.get(url, stream=True) as r:\n",
    "        r.raise_for_status()\n",
    "        with open(filename, 'wb') as f:\n",
    "            for chunk in r.iter_content(chunk_size=8192):\n",
    "                f.write(chunk)\n",
    "        print(filename)"
   ]
  }
 ],
 "metadata": {
  "kernelspec": {
   "display_name": "Python 3 (ipykernel)",
   "language": "python",
   "name": "python3"
  },
  "language_info": {
   "codemirror_mode": {
    "name": "ipython",
    "version": 3
   },
   "file_extension": ".py",
   "mimetype": "text/x-python",
   "name": "python",
   "nbconvert_exporter": "python",
   "pygments_lexer": "ipython3",
   "version": "3.9.13"
  }
 },
 "nbformat": 4,
 "nbformat_minor": 5
}
